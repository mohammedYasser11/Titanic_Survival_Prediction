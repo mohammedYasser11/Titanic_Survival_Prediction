{
 "cells": [
  {
   "cell_type": "markdown",
   "id": "8de89946",
   "metadata": {},
   "source": [
    "# Titanic Survival Predicition"
   ]
  },
  {
   "cell_type": "markdown",
   "id": "65e5af34",
   "metadata": {},
   "source": [
    "## EDA"
   ]
  },
  {
   "cell_type": "markdown",
   "id": "e828a657",
   "metadata": {},
   "source": [
    "## Data Preprocessing and Feature Engineering"
   ]
  },
  {
   "cell_type": "markdown",
   "id": "a7ee4d76",
   "metadata": {},
   "source": [
    "## Model Selection and Training"
   ]
  },
  {
   "cell_type": "markdown",
   "id": "60e2dc86",
   "metadata": {},
   "source": [
    "## Model Evaluation"
   ]
  },
  {
   "cell_type": "markdown",
   "id": "5ff5cb88",
   "metadata": {},
   "source": [
    "## Hyperparameter Tuning & Final Model"
   ]
  },
  {
   "cell_type": "markdown",
   "id": "0531d062",
   "metadata": {},
   "source": [
    "## Predicition"
   ]
  },
  {
   "cell_type": "markdown",
   "id": "b771d30f",
   "metadata": {},
   "source": []
  }
 ],
 "metadata": {
  "kernelspec": {
   "display_name": "mining",
   "language": "python",
   "name": "python3"
  },
  "language_info": {
   "name": "python",
   "version": "3.11.10"
  }
 },
 "nbformat": 4,
 "nbformat_minor": 5
}
